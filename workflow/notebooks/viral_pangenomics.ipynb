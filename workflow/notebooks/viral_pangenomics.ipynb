{
 "cells": [
  {
   "cell_type": "markdown",
   "metadata": {},
   "source": [
    "## Use the viral cluster results for viral pangenomes\n",
    "- Picked 10 clusters > 30 strains\n",
    "- Picked 10 metaGs to crosscheck\n"
   ]
  },
  {
   "cell_type": "code",
   "execution_count": null,
   "metadata": {
    "vscode": {
     "languageId": "plaintext"
    }
   },
   "outputs": [],
   "source": [
    "# use snakemake\n",
    "# run snake \n",
    "srun --account=ctbrowngrp -p med2 -J snake -t 1:00:00 -c 4 --mem=20gb --pty bash\n",
    "mamba activate branchwater\n",
    "\n",
    "snakemake -s Snakefile_m --use-conda --resources mem_mb=20000 --rerun-triggers mtime \\\n",
    "-c 4 --rerun-incomplete -k -n"
   ]
  }
 ],
 "metadata": {
  "language_info": {
   "name": "python"
  }
 },
 "nbformat": 4,
 "nbformat_minor": 2
}
