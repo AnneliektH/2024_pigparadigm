{
 "cells": [
  {
   "cell_type": "markdown",
   "metadata": {},
   "source": [
    "### Clustering and filtering viral sequences:\n",
    "- We have low, high and medium quality sequences. Since these come from metaGs, I only want to keep high and med quality. \n",
    "- I have done this before, but the results are a mess so will redo\n",
    "- Need to include all new vOTUs\n",
    "- Then cluster using CD-HIT: https://www.biostars.org/p/366171/ for full file names\n",
    "\n",
    "\n",
    "only use the 339 'good' datasets for now. \n",
    "Cluster these at 95% ANI, and then look for clusters that we can investigate for pangenomics. "
   ]
  },
  {
   "cell_type": "code",
   "execution_count": null,
   "metadata": {
    "vscode": {
     "languageId": "shellscript"
    }
   },
   "outputs": [],
   "source": [
    "# concatenate all viral score tsvs (n=111,082)\n",
    "mamba activate csvtk\n",
    "csvtk concat virsorter2/*/final-viral-score.tsv -t > virsorter2_viralscores.tsv"
   ]
  },
  {
   "cell_type": "code",
   "execution_count": null,
   "metadata": {
    "vscode": {
     "languageId": "shellscript"
    }
   },
   "outputs": [],
   "source": [
    "# Rename the csv files with viral scores\n",
    "for f in */final-viral-combined.fa\n",
    "do \n",
    "echo $f\n",
    "grep -e '>' $f > ../header_files/oldhead/${f%/*}.csv\n",
    "done\n",
    "\n",
    "# now for the renamed ones \n",
    "for f in *rename*.fa\n",
    "do\n",
    "echo $f\n",
    "grep -e '>' $f > ../header_files/newhead/${f%_rename*}.csv\n",
    "done\n",
    "\n",
    "# remove the carrots\n",
    "for f in *.csv\n",
    "do\n",
    "sed 's/[<>,]//g' $f > ${f%.csv*}.clean.csv\n",
    "done"
   ]
  },
  {
   "cell_type": "code",
   "execution_count": null,
   "metadata": {
    "vscode": {
     "languageId": "shellscript"
    }
   },
   "outputs": [],
   "source": [
    "# now make a concatenated file with names\n",
    "for f in *.clean.csv\n",
    "do\n",
    "paste -d \"\\t\" $f ../newhead/$f > ../combined_head/$f\n",
    "done\n",
    "\n",
    "# add header\n",
    "for f in *.csv\n",
    "do\n",
    "csvtk add-header -t $f -n seqname,newname > $f.newname\n",
    "done\n",
    "\n",
    "# concat all\n",
    "csvtk concat -t *.newname > ../header_keys.tsv"
   ]
  },
  {
   "cell_type": "code",
   "execution_count": null,
   "metadata": {
    "vscode": {
     "languageId": "shellscript"
    }
   },
   "outputs": [],
   "source": [
    "# join the final csvs\n",
    "csvtk join -t -f seqname virsorter2_viralscores.tsv header_files/header_keys.tsv > renamed_viralscore.tsv\n",
    "\n",
    "# select for max_score => 0.9 (n=62,146)\n",
    "csvtk filter -f \"max_score>=0.9\" -t renamed_viralscore.tsv > highqual_renamed_viralscore.tsv\n",
    "csvtk filter -f \"length>=5000\" -t highqual_renamed_viralscore.tsv > highqual_renamed_viralscore.len.tsv\n",
    "\n",
    "\n",
    "# take the column with the new names so we can filter the fasta\n",
    "csvtk cut -f \"newname\" highqual_renamed_viralscore.len.tsv -t > highqual_namelist.txt"
   ]
  },
  {
   "cell_type": "code",
   "execution_count": null,
   "metadata": {
    "vscode": {
     "languageId": "shellscript"
    }
   },
   "outputs": [],
   "source": [
    "# now use bbmap to filter fasta\n",
    "mamba activate bbmap \n",
    "filterbyname.sh in=hq_virseqs.fa out=hq_virseqs.len.fa names=./tsv_files/highqual_namelist.txt include=t\n",
    "\n",
    "# and sort it by length \n",
    "sortbyname.sh in=hq_virseqs.len.fa out=hq_virseqs.sort.fa length descending"
   ]
  },
  {
   "cell_type": "code",
   "execution_count": null,
   "metadata": {
    "vscode": {
     "languageId": "shellscript"
    }
   },
   "outputs": [],
   "source": [
    "# now cdhit to deduplicate \n",
    "srun --account=ctbrowngrp -p bmm -J cdhit -t 5:00:00 -c 32 --mem=70gb --pty bash\n",
    "\n",
    "mamba activate cdhit\n",
    "cd-hit-est -i hq_virseqs.sort.fa \\\n",
    "-o hq_virseqs.95.cluster.fa -d 0 \\\n",
    "-c 0.95 -aS 0.85 -M 70000 -T 32"
   ]
  },
  {
   "cell_type": "code",
   "execution_count": null,
   "metadata": {
    "vscode": {
     "languageId": "plaintext"
    }
   },
   "outputs": [],
   "source": [
    "\n",
    "\n"
   ]
  }
 ],
 "metadata": {
  "language_info": {
   "name": "python"
  }
 },
 "nbformat": 4,
 "nbformat_minor": 2
}
