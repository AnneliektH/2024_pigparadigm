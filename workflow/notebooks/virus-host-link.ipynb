{
 "cells": [
  {
   "cell_type": "markdown",
   "metadata": {},
   "source": [
    "### Host linkages:\n",
    "We have 38,956 viral sequences (vOTUs), but what is the point of all these if we don't link to hosts?\n",
    "Would like to link the viruses to hosts, and get AMG predictions if possible\n",
    "\n",
    "After host linkages: Would like to do co-occurence calculations for viruses and their hosts (sourmash?) to see if the linkages make sense. \n",
    "\n",
    "How to:\n",
    "- download own iphop db bc want to add own MAGs\n",
    "- run gtdbtk against MAGs, need the taxonomy folder output for adding to iphop\n",
    "- add MAGs to iphop db\n",
    "- do linkages\n",
    "\n",
    "for AMGs:\n",
    "- Rerun VS2 with dramV setting\n",
    "- Run DRAM-V\n",
    "\n",
    "\n",
    "Tried a bunch of CRISPR detection software, so far the most user friendly is Minced. \n",
    "Minced outputs a fasta file with all spacer sequences, that we can use to link MAGs to vOTUs. \n",
    "We will only be able to link MAGs that have spacers predicted. \n",
    "\n",
    "For MAGs that have CRISPR-spacer arrays predicted, maybe run prodigal/prokka or annotate the protein file, so that we can get an idea of the Cas genes. "
   ]
  },
  {
   "cell_type": "code",
   "execution_count": null,
   "metadata": {
    "vscode": {
     "languageId": "shellscript"
    }
   },
   "outputs": [],
   "source": [
    "# Using Minced for CRISPR-spacers detection on the MAGs. \n",
    "# https://github.com/ctSkennerton/minced\n",
    "mamba activate minced\n",
    "\n",
    "# srun\n",
    "srun --account=ctbrowngrp -p med2 -J ccf -t 5:00:00 -c 12 --mem=50gb --pty bash\n",
    "\n",
    "mamba activate branchwater\n",
    "snakemake --use-conda --resources mem_mb=50000 --rerun-triggers mtime \\\n",
    "-c 12 --rerun-incomplete -k -s ccf.smk\n"
   ]
  },
  {
   "cell_type": "code",
   "execution_count": null,
   "metadata": {
    "vscode": {
     "languageId": "shellscript"
    }
   },
   "outputs": [],
   "source": [
    "# Try running prokka on the MAGs with a CRISPR array\n",
    "# And use diff settings for bacteria and archeae\n",
    "# Update for a prokka with a tsv output\n",
    "\n",
    "srun --account=ctbrowngrp -p med2 -J prokka -t 00:20:00 -c 16 --mem=50gb --pty bash\n",
    "\n",
    "# This works, now we can look for Cas genes in these MAGs.\n",
    "mamba activate prokka\n",
    "prokka genomes/SRR8960980_MAG14.fasta \\\n",
    "--outdir prokka/SRR8960980_MAG14.new --prefix SRR8960980_MAG14 \\\n",
    "--kingdom bacteria, --norrna --notrna --cpus 16 --addgenes\n",
    "\n",
    "\n",
    "\n",
    "ath_rumvir_24_9902"
   ]
  },
  {
   "cell_type": "code",
   "execution_count": null,
   "metadata": {
    "vscode": {
     "languageId": "shellscript"
    }
   },
   "outputs": [],
   "source": []
  },
  {
   "cell_type": "code",
   "execution_count": null,
   "metadata": {
    "vscode": {
     "languageId": "shellscript"
    }
   },
   "outputs": [],
   "source": []
  },
  {
   "cell_type": "code",
   "execution_count": null,
   "metadata": {
    "vscode": {
     "languageId": "shellscript"
    }
   },
   "outputs": [],
   "source": [
    "# Programs I couldn't get to work.. \n",
    "# cctyper??\n",
    "# https://github.com/Russel88/CRISPRCasTyper\n",
    "# dependencies missing? Or not working together..\n",
    "\n",
    "mamba activate cctyper\n",
    "cctyper genome.fa my_output\n",
    "\n",
    "# idk about this one\n",
    "# Crisprcasfinder\n",
    "# MINCED output not in fa format, so hassle\n",
    "# level 4 crispr arrays have highest confidence score. \n",
    "#https://www.nature.com/articles/s41564-023-01347-5#Sec12 (Use ccf, only use level 4 conf, std settings)\n",
    "\n",
    "try crisprcasfinder\n",
    "in /programs/CRISPRCasFinder\n",
    "perl CRISPRCasFinder.pl\n",
    "\n",
    "# Build a snake file for all MAGs\n",
    "\n",
    "perl /home/amhorst/programs/CRISPRCasFinder/CRISPRCasFinder.pl \\\n",
    "-i {infile} -o {outdir} -keep -cas -cpuM {threads}"
   ]
  },
  {
   "cell_type": "code",
   "execution_count": null,
   "metadata": {
    "vscode": {
     "languageId": "shellscript"
    }
   },
   "outputs": [],
   "source": [
    "# get iphop db (in home/amhorst/databases)\n",
    "mamba activate iphop_env\n",
    "\n",
    "iphop download --db_dir ./iphop/\n",
    "# db in: /home/amhorst/databases/iphop/Aug_2023_pub_rw\n",
    "\n",
    "# remove the tar file (after at least checking if works)\n",
    "rm ./iphop/iPHoP_db_Aug23_rw.tar.gz"
   ]
  },
  {
   "cell_type": "code",
   "execution_count": null,
   "metadata": {
    "vscode": {
     "languageId": "shellscript"
    }
   },
   "outputs": [],
   "source": [
    "# run gtdbtk\n",
    "# srun\n",
    "srun --account=ctbrowngrp -p med2 -J gtdbtk -t 24:00:00 -c 100 --mem=120gb --pty bash\n",
    "\n",
    "# activate and run (pplacer needs mem so get scratch dir)\n",
    "mamba activate gtdbtk\n",
    "# gtdbtk classify_wf --cpus 36 --scratch_dir /home/amhorst/pplacer_scratch \\\n",
    "# --genome_dir ../drep.999/dereplicated_genomes/ \\\n",
    "# --extension fasta --skip_ani_screen --out_dir ./\n",
    "\n",
    "# Gotta redo gtdbtk with classify de novo or some shit, classify_wf does not work\n",
    "# bacteria\n",
    "gtdbtk de_novo_wf --genome_dir ../drep.999/dereplicated_genomes/ --bacteria \\\n",
    "--outgroup_taxon p__Patescibacteria --out_dir pig_gut_MAGs_gtdbtk \\\n",
    "--cpus 100 --force --extension fasta\n",
    "# archeae\n",
    "gtdbtk de_novo_wf --genome_dir ../drep.999/dereplicated_genomes/ --archaea \\\n",
    "--outgroup_taxon p__Altiarchaeota --out_dir pig_gut_MAGs_gtdbtk \\\n",
    "--cpus 100 --force --extension fasta\n",
    "\n",
    "# or can i decorate the trees instead?\n",
    "gtdbtk decorate --input_tree gtdbtk_classify/classify/gtdbtk.bac120.classify.tree.8.tree \\\n",
    "--output_tree gtdbtk_decorate/gtdbtk.bac120.decorated.tree.8.tree \\\n",
    "--gtdbtk_classification_file gtdbtk_classify/gtdbtk.bac120.summary.tsv\n",
    "\n",
    "# made structure same as in example folder\n",
    "# with an infer folder where the tree-taxonomy files are. Don't know if that works. \n",
    "# the problem is that the bacterial tree has 8 output trees. why??\n",
    "# Now just using the backbone tree --> renamed and removed the word backbone. \n",
    "# with denovo MAGs, may meed to use the denovo command"
   ]
  },
  {
   "cell_type": "code",
   "execution_count": null,
   "metadata": {
    "vscode": {
     "languageId": "shellscript"
    }
   },
   "outputs": [],
   "source": []
  },
  {
   "cell_type": "code",
   "execution_count": null,
   "metadata": {
    "vscode": {
     "languageId": "shellscript"
    }
   },
   "outputs": [],
   "source": [
    "# add new MAGs:\n",
    "# iPHoP v1.3.3\n",
    "# works if you have one tree for bacteria and one tree for archeae. \n",
    "# Use the backbone tree from gtdbtk\n",
    "# \n",
    "# https://bitbucket.org/srouxjgi/iphop/issues/7/no-new-spacers-in-added-custom-mags\n",
    "srun --account=ctbrowngrp -p med2 -J iphop_add -t 14:00:00 -c 50 --mem=50gb --pty bash\n",
    "\n",
    "mamba activate iphop_env\n",
    "\n",
    "iphop add_to_db \\\n",
    "-f /group/ctbrowngrp2/scratch/annie/2024-pigparadigm/results/MAGs/drep.999/dereplicated_genomes/ \\\n",
    "-g /group/ctbrowngrp2/scratch/annie/2024-pigparadigm/results/MAGs/gtdbtk_decorate/ \\\n",
    "-o /home/amhorst/databases/iphop/pig_gut_MAGs_July2024/ \\\n",
    "-d /home/amhorst/databases/iphop/Aug_2023_pub_rw \\\n",
    "-t 50 "
   ]
  },
  {
   "cell_type": "code",
   "execution_count": null,
   "metadata": {
    "vscode": {
     "languageId": "shellscript"
    }
   },
   "outputs": [],
   "source": [
    "# Run iphop with new MAGs added\n",
    "srun --account=ctbrowngrp -p med2 -J iphop -t 100:00:00 -c 60 --mem=70gb --pty bash\n",
    "\n",
    "mamba activate iphop_env\n",
    "iphop predict -f hq_virseqs.95.cluster.fa \\\n",
    "-o ./iphop -d /home/amhorst/databases/iphop/pig_gut_MAGs_July2024/ -t 60"
   ]
  },
  {
   "cell_type": "code",
   "execution_count": null,
   "metadata": {
    "vscode": {
     "languageId": "shellscript"
    }
   },
   "outputs": [],
   "source": [
    "# create env\n",
    "mamba create -n vibrant\n",
    "mamba activate vibrant\n",
    "\n",
    "# isntall\n",
    "mamba install vibrant"
   ]
  },
  {
   "cell_type": "code",
   "execution_count": null,
   "metadata": {
    "vscode": {
     "languageId": "shellscript"
    }
   },
   "outputs": [],
   "source": [
    "# Link the db to resources folder (resources/VIBRANT_db)\n",
    "ln -s /group/jbemersogrp/databases/vibrant/databases/ .\n",
    "\n",
    "# activate and run in srun\n",
    "srun --account=ctbrowngrp -p med2 -J vibrant -t 14:00:00 -c 20 --mem=50gb --pty bash\n",
    "\n",
    "mamba activate vibrant\n",
    "VIBRANT_run.py \\\n",
    "-i hq_virseqs.95.cluster.fa -folder VIBRANT \\\n",
    "-t 20 -d /group/jbemersogrp/databases/vibrant/databases"
   ]
  }
 ],
 "metadata": {
  "language_info": {
   "name": "python"
  }
 },
 "nbformat": 4,
 "nbformat_minor": 2
}
