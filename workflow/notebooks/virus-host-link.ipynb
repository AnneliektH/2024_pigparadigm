{
 "cells": [
  {
   "cell_type": "markdown",
   "metadata": {},
   "source": [
    "### Host linkages:\n",
    "We have 38,956 viral sequences (vOTUs), but what is the point of all these if we don't link to hosts?\n",
    "Would like to link the viruses to hosts, and get AMG predictions if possible\n",
    "\n",
    "After host linkages: Would like to do co-occurence calculations for viruses and their hosts (sourmash?) to see if the linkages make sense. \n",
    "\n",
    "How to:\n",
    "- Use Minced to predict repeat-spacer areas\n",
    "- For MAGs with a predicted repeat-spacer area, run Prokka for the cas gene predictions.\n",
    "\n",
    "\n",
    "Tried:\n",
    "- iphop\n",
    "- crisprcastyper\n",
    "- crisprcasfinder\n",
    "- crass\n",
    "\n",
    "Tried a bunch of CRISPR detection software, so far the most user friendly is Minced. \n",
    "Minced outputs a fasta file with all spacer sequences, that we can use to link MAGs to vOTUs. \n",
    "We will only be able to link MAGs that have spacers predicted. \n",
    "\n",
    "\n",
    "blast options:\n",
    "and matches with ≤ 1 mismatch and an E-value ≤ 1e−5 \n",
    "https://www.nature.com/articles/s41467-023-38400-0\n",
    "\n",
    "CRISPR spacers in genome bins were BLASTn55 searched against all viral elements, with hits retained only if they had up to one mismatch, a query coverage of ≥ 90% and an E-value ≤ 10−4\n",
    "https://www.nature.com/articles/s41598-023-32078-6\n"
   ]
  },
  {
   "cell_type": "code",
   "execution_count": null,
   "metadata": {
    "vscode": {
     "languageId": "shellscript"
    }
   },
   "outputs": [],
   "source": [
    "# Do crispr regions have more snps? Use instrain\n",
    "# Need to read map so make bt2 index first\n",
    "srun --account=ctbrowngrp -p med2 -J bt2 -t 3:00:00 -c 24 --mem=50gb --pty bash\n",
    "\n",
    "mamba activate bowtie2\n",
    "bowtie2-build ../vOTUs/hq_virseqs.fa  -p 24 --large-index\n",
    "\n",
    "# run instrain snake\n",
    "srun --account=ctbrowngrp -p med2 -J bt2 -t 7:00:00 -c 40 --mem=80gb --pty bash\n",
    "\n",
    "# run snakemake\n",
    "mamba activate branchwater\n",
    "snakemake --use-conda --resources mem_mb=80000 --rerun-triggers mtime \\\n",
    "-c 40 --rerun-incomplete -k -s Snakefile_instrain -n\n"
   ]
  },
  {
   "cell_type": "code",
   "execution_count": null,
   "metadata": {
    "vscode": {
     "languageId": "shellscript"
    }
   },
   "outputs": [],
   "source": [
    "# Using Minced for CRISPR-spacers detection on the MAGs. \n",
    "# https://github.com/ctSkennerton/minced\n",
    "# Total of 1482 MAGs with a crispr array\n",
    "mamba activate minced\n",
    "\n",
    "# srun\n",
    "srun --account=ctbrowngrp -p med2 -J ccf -t 3:00:00 -c 24 --mem=50gb --pty bash\n",
    "\n",
    "# run snakemake\n",
    "mamba activate branchwater\n",
    "snakemake --use-conda --resources mem_mb=50000 --rerun-triggers mtime \\\n",
    "-c 12 --rerunRFI_group-incomplete -k -s crispr_hostlink.smk"
   ]
  },
  {
   "cell_type": "code",
   "execution_count": null,
   "metadata": {
    "vscode": {
     "languageId": "shellscript"
    }
   },
   "outputs": [],
   "source": [
    "# concatenate all spacers (n=29823)\n",
    "cat *.fa > ../all_spacers.fa\n",
    "\n",
    "# make a blastdb from all spacer file\n",
    "mamba activate blast\n",
    "\n",
    "\n",
    "# Make a blastdb of all vOTU sequences (no dereplication, may be interesting strain diversity))\n",
    "makeblastdb -in ../hq_virseqs.fa -dbtype nucl -out hq_virseqs\n",
    "\n",
    "\n",
    "# WE BLAST THE SPACER SEQUENCES TO THE VOTUS\n",
    "blastn -task blastn-short \\\n",
    "-query all_spacers.minced.fa \\\n",
    "-db ../vOTUs/blastdb/hq_virseqs \\\n",
    "-evalue 1e-3 -perc_identity 95 -outfmt 6 \\\n",
    "-out spacers_vOTUs.minced"
   ]
  },
  {
   "cell_type": "markdown",
   "metadata": {},
   "source": [
    "## Iphop stuff:\n",
    "- Downloaded iphop db and added own new MAG sequences\n",
    "- iphop needed too much time and mem, so use different approach\n",
    "\n",
    "In case I change my mind later, here is code for adding MAGs to iphop db and running iphop"
   ]
  },
  {
   "cell_type": "code",
   "execution_count": null,
   "metadata": {
    "vscode": {
     "languageId": "shellscript"
    }
   },
   "outputs": [],
   "source": [
    "# download iphop db \n",
    "# db in: /home/amhorst/databases/iphop/Aug_2023_pub_rw\n",
    "mamba activate iphop_env\n",
    "iphop download --db_dir ./iphop/\n",
    "\n",
    "# run gtdbtk\n",
    "# activate and run (pplacer needs mem so get scratch dir)\n",
    "# Do not need classify de novo for MAGs into iphop\n",
    "# can use the decorate tree command instead\n",
    "mamba activate gtdbtk\n",
    "gtdbtk classify_wf --cpus 36 --scratch_dir /home/amhorst/pplacer_scratch \\\n",
    "--genome_dir ../drep.999/dereplicated_genomes/ \\\n",
    "--extension fasta --skip_ani_screen --out_dir ./\n",
    "# # bacteria\n",
    "# gtdbtk de_novo_wf --genome_dir ../drep.999/dereplicated_genomes/ --bacteria \\\n",
    "# --outgroup_taxon p__Patescibacteria --out_dir pig_gut_MAGs_gtdbtk \\\n",
    "# --cpus 100 --force --extension fasta\n",
    "# # archeae\n",
    "# gtdbtk de_novo_wf --genome_dir ../drep.999/dereplicated_genomes/ --archaea \\\n",
    "# --outgroup_taxon p__Altiarchaeota --out_dir pig_gut_MAGs_gtdbtk \\\n",
    "# --cpus 100 --force --extension fasta\n",
    "\n",
    "# decorate trees\n",
    "# or can i decorate the trees instead, yes I can \n",
    "gtdbtk decorate --input_tree gtdbtk_classify/classify/gtdbtk.bac120.classify.tree.8.tree \\\n",
    "--output_tree gtdbtk_decorate/gtdbtk.bac120.decorated.tree.8.tree \\\n",
    "--gtdbtk_classification_file gtdbtk_classify/gtdbtk.bac120.summary.tsv\n",
    "\n",
    "# made structure same as in example folder\n",
    "# with an infer folder where the tree-taxonomy files are. Don't know if that works. \n",
    "# the problem is that the bacterial tree has 8 output trees. why??\n",
    "# Now just using the backbone tree --> renamed and removed the word backbone. \n",
    "# with denovo MAGs, may meed to use the denovo command"
   ]
  },
  {
   "cell_type": "code",
   "execution_count": null,
   "metadata": {
    "vscode": {
     "languageId": "shellscript"
    }
   },
   "outputs": [],
   "source": [
    "# add new MAGs:\n",
    "# iPHoP v1.3.3\n",
    "# works if you have one tree for bacteria and one tree for archeae. \n",
    "# Use the backbone tree from gtdbtk\n",
    "# \n",
    "# https://bitbucket.org/srouxjgi/iphop/issues/7/no-new-spacers-in-added-custom-mags\n",
    "srun --account=ctbrowngrp -p med2 -J iphop_add -t 14:00:00 -c 50 --mem=50gb --pty bash\n",
    "\n",
    "mamba activate iphop_env\n",
    "\n",
    "iphop add_to_db \\\n",
    "-f /group/ctbrowngrp2/scratch/annie/2024-pigparadigm/results/MAGs/drep.999/dereplicated_genomes/ \\\n",
    "-g /group/ctbrowngrp2/scratch/annie/2024-pigparadigm/results/MAGs/gtdbtk_decorate/ \\\n",
    "-o /home/amhorst/databases/iphop/pig_gut_MAGs_July2024/ \\\n",
    "-d /home/amhorst/databases/iphop/Aug_2023_pub_rw \\\n",
    "-t 50 "
   ]
  },
  {
   "cell_type": "code",
   "execution_count": null,
   "metadata": {
    "vscode": {
     "languageId": "shellscript"
    }
   },
   "outputs": [],
   "source": [
    "# Run iphop with new MAGs added\n",
    "srun --account=ctbrowngrp -p med2 -J iphop -t 100:00:00 -c 60 --mem=70gb --pty bash\n",
    "\n",
    "mamba activate iphop_env\n",
    "iphop predict -f hq_virseqs.95.cluster.fa \\\n",
    "-o ./iphop -d /home/amhorst/databases/iphop/pig_gut_MAGs_July2024/ -t 60"
   ]
  }
 ],
 "metadata": {
  "language_info": {
   "name": "python"
  }
 },
 "nbformat": 4,
 "nbformat_minor": 2
}
