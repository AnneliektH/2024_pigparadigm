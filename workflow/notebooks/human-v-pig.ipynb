{
 "cells": [
  {
   "cell_type": "markdown",
   "metadata": {},
   "source": [
    "### Compare human to pig metaGs in species comp\n",
    "- 10 pig metaG\n",
    "- 10 human metaG\n",
    "- pangenomes of 5 species of bacteria\n",
    "- overall composition of metaG. \n",
    "\n",
    "\n",
    "So hash presence absense in pigs and human metaGs. what fraction fo hashes that are known from ecoli, which hashes do have different frequency beteen human and pig gut. Frequency of hashes in human over frequency in pigs, in a dotplot.\n",
    "\n",
    "What is the composition of human? what species most present?\n",
    "\n",
    "From human metaGs x pangenomes, combinations did not find particular species in the metag "
   ]
  },
  {
   "cell_type": "code",
   "execution_count": null,
   "metadata": {
    "vscode": {
     "languageId": "shellscript"
    }
   },
   "outputs": [],
   "source": [
    "# 10 human metaGs. \n",
    "srun --account=ctbrowngrp -p bmh -J pang -t 1:30:00 -c 10 --mem=30gb --pty bash\n",
    "mamba activate branchwater\n",
    "\n",
    "snakemake -s Snakefile_comphuman --use-conda --resources mem_mb=30000 --rerun-triggers mtime \\\n",
    "-c 10 --rerun-incomplete -k -n\n"
   ]
  },
  {
   "cell_type": "code",
   "execution_count": null,
   "metadata": {
    "vscode": {
     "languageId": "shellscript"
    }
   },
   "outputs": [],
   "source": []
  },
  {
   "cell_type": "code",
   "execution_count": null,
   "metadata": {
    "vscode": {
     "languageId": "shellscript"
    }
   },
   "outputs": [],
   "source": [
    "# want one dump file per human metaG x microbial pangenome\n",
    "python ../../../workflow/scripts/parse-dump.py \\\n",
    "--dump-files-1 lreuteri.x.human.dump \\\n",
    "--dump-files-2 lreuteri.x.pig.dump > \\\n",
    "../lreuteri.comp.tsv"
   ]
  },
  {
   "cell_type": "code",
   "execution_count": null,
   "metadata": {
    "vscode": {
     "languageId": "shellscript"
    }
   },
   "outputs": [],
   "source": [
    "# need to do fmg --> tax for each, use a snakefile\n",
    "srun --account=ctbrowngrp -p bmm -J fmg -t 1:00:00 -c 24 --mem=40gb --pty bash\n",
    "mamba activate branchwater\n",
    "\n",
    "sourmash scripts fastgather \\\n",
    "/group/ctbrowngrp/irber/data/wort-data/wort-sra/sigs/DRR149264.sig \\\n",
    "/group/ctbrowngrp/sourmash-db/gtdb-rs214/gtdb-rs214-reps.k21.zip \\\n",
    "-k 21 --scaled 1000 \\\n",
    "-c 24 -o DRR149264.gtdb.csv\n"
   ]
  },
  {
   "cell_type": "code",
   "execution_count": null,
   "metadata": {
    "vscode": {
     "languageId": "shellscript"
    }
   },
   "outputs": [],
   "source": [
    "# fastgather\n",
    "sourmash scripts fastgather \\\n",
    "ERR3211750.txt \\\n",
    "/group/ctbrowngrp/sourmash-db/gtdb-rs214/gtdb-rs214-reps.k21.zip \\\n",
    "-k 21 --scaled 1000 \\\n",
    "-c 24\n",
    "# tax\n",
    "sourmash tax metagenome -g ERR3211750.fg.csv \\\n",
    "-t /group/ctbrowngrp/sourmash-db/gtdb-rs214/gtdb-rs214.lineages.csv \\\n",
    "-o ERR3211750.tax.fg.csv\n"
   ]
  }
 ],
 "metadata": {
  "language_info": {
   "name": "python"
  }
 },
 "nbformat": 4,
 "nbformat_minor": 2
}
