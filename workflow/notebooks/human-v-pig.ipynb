{
 "cells": [
  {
   "cell_type": "markdown",
   "metadata": {},
   "source": [
    "### Compare human to pig metaGs in species comp\n",
    "- 100 pig metaG\n",
    "- 100 human metaG\n",
    "- pangenomes of 6 species of bacteria\n",
    "- overall composition of metaG. \n",
    "\n",
    "So hash presence absense in pigs and human metaGs. what fraction fo hashes that are known from ecoli, which hashes do have different frequency beteen human and pig gut. Frequency of hashes in human over frequency in pigs, in a heatmap.\n",
    "\n",
    "What is the composition of human? what species most present?\n",
    "\n",
    "From human metaGs x pangenomes, combinations did not find particular species in the metag "
   ]
  },
  {
   "cell_type": "code",
   "execution_count": null,
   "metadata": {
    "vscode": {
     "languageId": "shellscript"
    }
   },
   "outputs": [],
   "source": [
    "# 100 human metaGs. \n",
    "srun --account=ctbrowngrp -p bmh -J pang -t 1:30:00 -c 3 --mem=70gb --pty bash\n",
    "mamba activate branchwater\n",
    "\n",
    "snakemake -s Snakefile_comphuman --use-conda --resources mem_mb=70000 --rerun-triggers mtime \\\n",
    "-c 3 --rerun-incomplete -k -n\n"
   ]
  },
  {
   "cell_type": "code",
   "execution_count": null,
   "metadata": {
    "vscode": {
     "languageId": "shellscript"
    }
   },
   "outputs": [],
   "source": [
    "# want one dump file per human metaG x microbial pangenome\n",
    "python ../../../workflow/scripts/parse-dump.py \\\n",
    "--dump-files-1 lreuteri.x.human.dump \\\n",
    "--dump-files-2 lreuteri.x.pig.dump > \\\n",
    "../lreuteri.comp.tsv"
   ]
  },
  {
   "cell_type": "code",
   "execution_count": null,
   "metadata": {
    "vscode": {
     "languageId": "shellscript"
    }
   },
   "outputs": [],
   "source": [
    "# Then from dmp file to a heatmap plot\n"
   ]
  }
 ],
 "metadata": {
  "language_info": {
   "name": "python"
  }
 },
 "nbformat": 4,
 "nbformat_minor": 2
}
