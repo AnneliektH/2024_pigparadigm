{
 "cells": [
  {
   "cell_type": "markdown",
   "metadata": {},
   "source": [
    "## Link viruses to hosts\n",
    "We have 38,956 viral sequences (vOTUs), but what is the point of all these if we don't link to hosts?\n",
    "Would like to link the viruses to hosts, and get AMG predictions if possible\n",
    "\n",
    "After host linkages: Would like to do co-occurence calculations for viruses and their hosts (sourmash?) to see if the linkages make sense. \n",
    "\n",
    "How to:\n",
    "- download iphop for host linkages\n",
    "- download own iphop db bc want to add own MAGs\n",
    "- run gtdbtk against MAGs, need the taxonomy folder output for adding to iphop\n",
    "- add MAGs to iphop db\n",
    "- do linkages\n",
    "\n",
    "for AMGs:\n",
    "- get vibrant to work\n",
    "- run vibrant on the high quality vOTUs (in this case all)"
   ]
  },
  {
   "cell_type": "code",
   "execution_count": null,
   "metadata": {},
   "outputs": [],
   "source": [
    "# get iphop db (in home/amhorst/databases)\n",
    "mamba activate iphop_env\n",
    "\n",
    "iphop download --db_dir ./iphop/\n",
    "# db in: /home/amhorst/databases/iphop/Aug_2023_pub_rw\n",
    "\n",
    "# remove the tar file (after at least checking if works)\n",
    "rm ./iphop/iPHoP_db_Aug23_rw.tar.gz"
   ]
  },
  {
   "cell_type": "code",
   "execution_count": null,
   "metadata": {
    "vscode": {
     "languageId": "shellscript"
    }
   },
   "outputs": [],
   "source": [
    "# run gtdbtk\n",
    "# srun\n",
    "srun --account=ctbrowngrp -p med2 -J gtdbtk -t 6:00:00 -c 36 --mem=60gb --pty bash\n",
    "\n",
    "# activate \n",
    "mamba activate gtdbtk\n",
    "gtdbtk classify_wf --cpus 36 \\\n",
    "--genome_dir ../drep.999/dereplicated_genomes/ \\\n",
    "--extension fasta --skip_ani_screen --out_dir ./"
   ]
  },
  {
   "cell_type": "code",
   "execution_count": null,
   "metadata": {},
   "outputs": [],
   "source": [
    "# add new MAGs:\n",
    "# https://bitbucket.org/srouxjgi/iphop/issues/7/no-new-spacers-in-added-custom-mags"
   ]
  },
  {
   "cell_type": "code",
   "execution_count": null,
   "metadata": {},
   "outputs": [],
   "source": []
  },
  {
   "cell_type": "markdown",
   "metadata": {},
   "source": []
  }
 ],
 "metadata": {
  "language_info": {
   "name": "python"
  }
 },
 "nbformat": 4,
 "nbformat_minor": 2
}
