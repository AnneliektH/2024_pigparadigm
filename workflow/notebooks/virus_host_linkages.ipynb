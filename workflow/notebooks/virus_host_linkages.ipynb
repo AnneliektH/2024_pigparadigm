{
 "cells": [
  {
   "cell_type": "markdown",
   "metadata": {},
   "source": [
    "## Link viruses to hosts\n",
    "We have 38,956 viral sequences (vOTUs), but what is the point of all these if we don't link to hosts?\n",
    "Would like to link the viruses to hosts, and get AMG predictions if possible\n",
    "\n",
    "After host linkages: Would like to do co-occurence calculations for viruses and their hosts (sourmash?) to see if the linkages make sense. \n",
    "\n",
    "How to:\n",
    "- download own iphop db bc want to add own MAGs\n",
    "- run gtdbtk against MAGs, need the taxonomy folder output for adding to iphop\n",
    "- add MAGs to iphop db\n",
    "- do linkages\n",
    "\n",
    "for AMGs:\n",
    "- get vibrant to work\n",
    "- run vibrant on the high quality vOTUs (in this case all)\n",
    "- should we run vibrant instead of VS2? Or both, and just have double verification that a sequence is viraL??"
   ]
  },
  {
   "cell_type": "code",
   "execution_count": null,
   "metadata": {},
   "outputs": [],
   "source": [
    "# get iphop db (in home/amhorst/databases)\n",
    "mamba activate iphop_env\n",
    "\n",
    "iphop download --db_dir ./iphop/\n",
    "# db in: /home/amhorst/databases/iphop/Aug_2023_pub_rw\n",
    "\n",
    "# remove the tar file (after at least checking if works)\n",
    "rm ./iphop/iPHoP_db_Aug23_rw.tar.gz"
   ]
  },
  {
   "cell_type": "code",
   "execution_count": null,
   "metadata": {
    "vscode": {
     "languageId": "shellscript"
    }
   },
   "outputs": [],
   "source": [
    "# run gtdbtk\n",
    "# srun\n",
    "srun --account=ctbrowngrp -p med2 -J gtdbtk -t 14:00:00 -c 36 --mem=120gb --pty bash\n",
    "\n",
    "# activate and run (pplacer needs mem so get scratch dir)\n",
    "mamba activate gtdbtk\n",
    "# gtdbtk classify_wf --cpus 36 --scratch_dir /home/amhorst/pplacer_scratch \\\n",
    "# --genome_dir ../drep.999/dereplicated_genomes/ \\\n",
    "# --extension fasta --skip_ani_screen --out_dir ./\n",
    "\n",
    "# Gotta redo gtdbtk with classify de novo or some shit\n",
    "# bacteria\n",
    "gtdbtk de_novo_wf --genome_dir ../drep.999/dereplicated_genomes/ --bacteria \\\n",
    "--outgroup_taxon p__Patescibacteria --out_dir pig_gut_MAGs_gtdbtk \\\n",
    "--cpus 36 --force --extension fasta\n",
    "# archeae\n",
    "gtdbtk de_novo_wf --genome_dir ../drep.999/dereplicated_genomes/ --archaea \\\n",
    "--outgroup_taxon p__Altiarchaeota --out_dir pig_gut_MAGs_gtdbtk \\\n",
    "--cpus 36 --force --extension fasta\n"
   ]
  },
  {
   "cell_type": "code",
   "execution_count": null,
   "metadata": {
    "vscode": {
     "languageId": "shellscript"
    }
   },
   "outputs": [],
   "source": [
    "# Add new mags: go through testing\n",
    "# https://bitbucket.org/srouxjgi/iphop/src/main/#markdown-header-adding-bacterial-andor-archaeal-mags-to-the-host-database-experimental\n",
    "wget https://bitbucket.org/srouxjgi/iphop/downloads/Data_test_add_to_db.tar.gz\n",
    "tar -xvf Data_test_add_to_db.tar.gz\n",
    "# trees were made de novo, redo"
   ]
  },
  {
   "cell_type": "code",
   "execution_count": null,
   "metadata": {},
   "outputs": [],
   "source": [
    "# add new MAGs:\n",
    "# iPHoP v1.3.3\n",
    "# \n",
    "# https://bitbucket.org/srouxjgi/iphop/issues/7/no-new-spacers-in-added-custom-mags\n",
    "srun --account=ctbrowngrp -p med2 -J iphop_add -t 14:00:00 -c 12 --mem=100gb --pty bash\n",
    "\n",
    "mamba activate iphop_env\n",
    "\n",
    "iphop add_to_db \\\n",
    "-f /group/ctbrowngrp2/scratch/annie/2024-pigparadigm/results/MAGs/drep.999/dereplicated_genomes/ \\\n",
    "-g /group/ctbrowngrp2/scratch/annie/2024-pigparadigm/results/MAGs/gtdbtk_denovo \\\n",
    "-o /home/amhorst/databases/iphop/pig_gut_MAGs_July2024/ \\\n",
    "-d /home/amhorst/databases/iphop/Aug_2023_pub_rw \\\n",
    "-t 12 --debug"
   ]
  },
  {
   "cell_type": "code",
   "execution_count": null,
   "metadata": {},
   "outputs": [],
   "source": []
  },
  {
   "cell_type": "markdown",
   "metadata": {},
   "source": []
  }
 ],
 "metadata": {
  "language_info": {
   "name": "python"
  }
 },
 "nbformat": 4,
 "nbformat_minor": 2
}
