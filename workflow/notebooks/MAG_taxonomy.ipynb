{
 "cells": [
  {
   "cell_type": "markdown",
   "metadata": {},
   "source": [
    "## MAG processing\n",
    "We used atlas on around 900 datasets, after checking, 338 of those have good enough SRA measurements:\n",
    "Need to re-check, bc i did something wrong, I think \n",
    "\n",
    "- WGS\n",
    "- metagenomic\n",
    "- random amplification\n",
    "- paired libraries\n",
    "- more than 1GB sequencing\n",
    "- pig gut metagenome == organism\n",
    "\n",
    "\n",
    "For these, link the atlas output folders, and do following:\n",
    "- Do taxonomy using sourmash, probably just do it for all of them, or copy tax file\n",
    "- dereplicate using drep\n",
    "- Create signatures for the ones that don't have a signature yet. \n",
    "- Get the quality stats for them somewhere local\n",
    "- do a fastmultigather for these against high quality metagenomes. \n",
    "\n"
   ]
  },
  {
   "cell_type": "code",
   "execution_count": null,
   "metadata": {
    "vscode": {
     "languageId": "shellscript"
    }
   },
   "outputs": [],
   "source": [
    "# use the 339 'good' datasets for now. \n",
    "cp atlas/*/genomes/genomes/*.fasta ./genomes/\n",
    "\n",
    "# concat all tax\n",
    "mamba activate csvtk\n",
    "csvtk concat atlas/atlas*/genomes/taxonomy/gtdb_taxonomy.tsv -t > 240705_genome_taxonomy.tsv\n",
    "\n",
    "# concat quality info\n",
    "mamba activate csvtk\n",
    "csvtk concat atlas/atlas*/genomes/genome_quality.tsv -t > 240705_genome_quality.tsv"
   ]
  },
  {
   "cell_type": "code",
   "execution_count": null,
   "metadata": {
    "vscode": {
     "languageId": "shellscript"
    }
   },
   "outputs": [],
   "source": [
    "# deduplicate using drep \n",
    "# use external info from checkm: https://drep.readthedocs.io/en/master/advanced_use.html#using-external-genome-quality-information\n",
    "# make a completeness sheet for drep https://github.com/MrOlm/drep/issues/220\n",
    "awk -F'\\t' 'BEGIN {OFS=\",\"} {print $1, $2, $3}' quality_report.tsv > new_file_name.csv\n",
    "# In the new file convert headings to: genome,completeness,contamination\n",
    "\n",
    "# use drep (retains 831 genomes)\n",
    "srun --account=ctbrowngrp -p bmh -J sketch -t 5:00:00 -c 32 --mem=50gb --pty bash\n",
    "\n",
    "mamba activate drep\n",
    "dRep dereplicate \\\n",
    "drep.999 \\\n",
    "--genomeInfo drepqual.csv \\\n",
    "-p 32 \\\n",
    "-g ./genomes/*.fasta \\\n",
    "-pa 0.9 -sa 0.999 -nc 0.30 -cm larger \\\n",
    "-comp 50 -con 10 -l 1000 \n"
   ]
  },
  {
   "cell_type": "code",
   "execution_count": null,
   "metadata": {
    "vscode": {
     "languageId": "shellscript"
    }
   },
   "outputs": [],
   "source": [
    "# Create MAG signatures for fastgather usage:\n",
    "# Do only for all genomes, later split into 95%, 99% and 99.9% ANI\n",
    "module load parallel\n",
    "mamba activate branchwater\n",
    "\n",
    "for f in *.fasta\n",
    "do\n",
    "echo sourmash sketch dna \\\n",
    "-p k=21,scaled=1000,k=31,scaled=1000 \\\n",
    "$f --name ${f%.fasta*} -o ../../sourmash/sketches/MAGs/${f%.fasta*}.zip\n",
    "done | parallel -j 32"
   ]
  },
  {
   "cell_type": "code",
   "execution_count": null,
   "metadata": {
    "vscode": {
     "languageId": "shellscript"
    }
   },
   "outputs": [],
   "source": [
    "# Make file lists for dereplicated MAGs and replace .fasta with .zip\n",
    "sed -i 's/\\.fasta/\\.zip/g' drep95.txt\n",
    "\n",
    "# Concatenate all signatures --from-file\n",
    "sourmash sig cat --from-file ../../../MAGs/genome_lists/drep95.txt -o ../MAGs.drep95.zip\n",
    "sourmash sig cat --from-file ../../../MAGs/genome_lists/drep99.txt -o ../MAGs.drep99.zip\n",
    "sourmash sig cat --from-file ../../../MAGs/genome_lists/drep999.txt -o ../MAGs.drep999.zip\n",
    "\n",
    "sourmash sig collect --from-file ../../../MAGs/genome_lists/drep999.txt -o ../MAGs.drep999.sqlmf\n",
    "sourmash sig collect --from-file ../../../MAGs/genome_lists/drep99.txt -o ../MAGs.drep99.sqlmf\n",
    "sourmash sig collect --from-file ../../../MAGs/genome_lists/drep95.txt -o ../MAGs.drep95.sqlmf"
   ]
  },
  {
   "cell_type": "code",
   "execution_count": null,
   "metadata": {
    "vscode": {
     "languageId": "shellscript"
    }
   },
   "outputs": [],
   "source": [
    "# after fastgather, make picklist and create new db, do fg against this\n",
    "sourmash sig cat \\\n",
    "../../sketches/MAGs.drep999.zip \\\n",
    "/group/ctbrowngrp/sourmash-db/gtdb-rs214/gtdb-rs214-k21.zip \\\n",
    "-k 21 --picklist SRR5976183.pig.csv:match_md5:md5 -o SRR5976183.concat.zip\n",
    "\n",
    "sourmash scripts fastgather \\\n",
    "{input.sig} {input.db} \\\n",
    "        -k {KSIZE} --scaled 1000 \\\n",
    "        -c {threads} -o {output.csv}"
   ]
  },
  {
   "cell_type": "code",
   "execution_count": null,
   "metadata": {
    "vscode": {
     "languageId": "shellscript"
    }
   },
   "outputs": [],
   "source": [
    "# some sort of gather\n",
    "rule sourmash_gather_all:\n",
    "    input:  \n",
    "        sig = \"/home/ctbrown/scratch2/2023-swine-usda/outputs.swine-x-reps/{sample}.subtract.sig.gz\",\n",
    "        picklist = \"sourmash/fastgather/concat/{sample}.csv\"\n",
    "    output: \n",
    "        csv = \"sourmash/gather_out/MAGs_gtdbk_vir/{sample}.csv\"\n",
    "    resources:\n",
    "        mem_mb=25000\n",
    "    conda: \n",
    "        \"sourmash\"\n",
    "    shell:\n",
    "        \"\"\"\n",
    "        sourmash gather {input.sig} atlas/MAGs/all-MAGs_21.zip \\\n",
    "        /group/ctbrowngrp/sourmash-db/gtdb-rs214/gtdb-rs214-k21.zip \\\n",
    "        /virsorter2/all-votu_21.zip \n",
    "        -k 21 --scaled 10000 -o {output.csv} \\\n",
    "        --picklist {input.picklist}:match_md5:md5\n",
    "        \"\"\"\n"
   ]
  },
  {
   "cell_type": "code",
   "execution_count": null,
   "metadata": {
    "vscode": {
     "languageId": "shellscript"
    }
   },
   "outputs": [],
   "source": [
    "## Run iphop to link viruses to hosts, from the same samples\n"
   ]
  }
 ],
 "metadata": {
  "language_info": {
   "name": "python"
  }
 },
 "nbformat": 4,
 "nbformat_minor": 2
}
