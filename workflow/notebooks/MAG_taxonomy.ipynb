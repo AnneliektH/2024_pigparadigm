{
 "cells": [
  {
   "cell_type": "markdown",
   "metadata": {},
   "source": [
    "### MAG things\n",
    "- Do taxonomy using sourmash, probably just do it for all of them, or copy tax file\n",
    "- dereplicate using drep\n",
    "- Create signatures for the ones that don't have a signature yet. \n",
    "- Get the quality stats for them somewhere local\n",
    "- do a fastmultigather for these against high quality metagenomes. \n",
    "\n",
    "Maybe even take only MAGs from the 'good' metagenomes, as did for vOTUs"
   ]
  },
  {
   "cell_type": "code",
   "execution_count": null,
   "metadata": {
    "vscode": {
     "languageId": "shellscript"
    }
   },
   "outputs": [],
   "source": [
    "# use the 339 'good' datasets for now. \n",
    "cp atlas/*/genomes/genomes/*.fasta ./genomes/\n",
    "\n",
    "# concat all tax\n",
    "mamba activate csvtk\n",
    "csvtk concat atlas/atlas*/genomes/taxonomy/gtdb_taxonomy.tsv -t > 240705_genome_taxonomy.tsv\n",
    "\n",
    "# concat quality info\n",
    "mamba activate csvtk\n",
    "csvtk concat atlas/atlas*/genomes/genome_quality.tsv -t > 240705_genome_quality.tsv"
   ]
  },
  {
   "cell_type": "code",
   "execution_count": null,
   "metadata": {
    "vscode": {
     "languageId": "shellscript"
    }
   },
   "outputs": [],
   "source": [
    "# deduplicate using drep \n",
    "# use external info from checkm: https://drep.readthedocs.io/en/master/advanced_use.html#using-external-genome-quality-information\n",
    "# make a completeness sheet for drep https://github.com/MrOlm/drep/issues/220\n",
    "awk -F'\\t' 'BEGIN {OFS=\",\"} {print $1, $2, $3}' quality_report.tsv > new_file_name.csv\n",
    "# In the new file convert headings to: genome,completeness,contamination\n",
    "\n",
    "# use drep (retains 831 genomes)\n",
    "srun --account=ctbrowngrp -p bmm -J drep -t 6:00:00 -c 32 --mem=50gb --pty bash\n",
    "\n",
    "mamba activate drep\n",
    "dRep dereplicate \\\n",
    "drep.999 \\\n",
    "--genomeInfo drepqual.csv \\\n",
    "-p 32 \\\n",
    "-g ./genomes/*.fasta \\\n",
    "-pa 0.9 -sa 0.999 -nc 0.30 -cm larger \\\n",
    "-comp 50 -con 10 -l 1000 \n"
   ]
  },
  {
   "cell_type": "code",
   "execution_count": null,
   "metadata": {
    "vscode": {
     "languageId": "shellscript"
    }
   },
   "outputs": [],
   "source": []
  }
 ],
 "metadata": {
  "language_info": {
   "name": "python"
  }
 },
 "nbformat": 4,
 "nbformat_minor": 2
}
