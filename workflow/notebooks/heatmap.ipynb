{
 "cells": [
  {
   "cell_type": "markdown",
   "metadata": {},
   "source": [
    "## Plot pangenome heatmaps\n",
    "- Compare the kmers in pigs v humans. (100 metaG v 100 metaG)\n",
    "- What kmers are in both, neither, or just one?\n",
    "- Do we see patterns in heatmaps?"
   ]
  },
  {
   "cell_type": "code",
   "execution_count": null,
   "metadata": {},
   "outputs": [],
   "source": [
    "# imports\n",
    "import os\n",
    "import pandas as pd\n",
    "import seaborn as sns\n",
    "import matplotlib.pyplot as plt\n",
    "import glob\n",
    "from sklearn.preprocessing import StandardScaler"
   ]
  },
  {
   "cell_type": "code",
   "execution_count": null,
   "metadata": {},
   "outputs": [],
   "source": [
    "# set filepaths\n",
    "dmp_folder = \"../compare_pig_human/100_v100/dmp/\"\n",
    "plot_folder = \"../compare_pig_human/100_v100/plots\""
   ]
  },
  {
   "cell_type": "code",
   "execution_count": null,
   "metadata": {},
   "outputs": [],
   "source": [
    "# plot each of the comparisons, for species picked\n",
    "# Loop through each file in the input folder\n",
    "for filename in os.listdir(dmp_folder):\n",
    "    if filename.endswith(\".tsv\"):\n",
    "        file_path = os.path.join(dmp_folder, filename)\n",
    "        base_name = os.path.splitext(filename)[0]\n",
    "        output_file = f\"{base_name}.density.png\"\n",
    "        output_path = os.path.join(plot_folder, output_file)\n",
    "        plot_title = base_name\n",
    "        \n",
    "        # Create the density plot\n",
    "        density_plot(file_path, output_path, plot_title)\n",
    "\n",
    "# plot each of the comparisons, for species picked\n",
    "# Loop through each file in the input folder\n",
    "for filename in os.listdir(dmp_folder):\n",
    "    if filename.endswith(\".tsv\"):\n",
    "        file_path = os.path.join(dmp_folder, filename)\n",
    "        base_name = os.path.splitext(filename)[0]\n",
    "        output_file = f\"{base_name}.density_no0.png\"\n",
    "        output_path = os.path.join(plot_folder, output_file)\n",
    "        plot_title = base_name\n",
    "        \n",
    "        # Create the density plot\n",
    "        density_plot_no0(file_path, output_path, plot_title)"
   ]
  },
  {
   "cell_type": "code",
   "execution_count": null,
   "metadata": {},
   "outputs": [],
   "source": [
    "def density_plot(infile, outfile, plot_title):\n",
    "    \"\"\" create heatmap for hashes, found in pig and/or human metags\"\"\"\n",
    "    df = pd.read_csv(infile, sep='\\s', engine='python', \n",
    "                 names=[\"hash\", \"human\", \"pig\"])\n",
    "    plt.figure(figsize=(10, 6))\n",
    "    sns.kdeplot(x=df['human'], y=df['pig'], fill=True, cmap=\"viridis\", cbar=True)\n",
    "    plt.title(plot_title)\n",
    "    plt.xlabel('Human')\n",
    "    plt.ylabel('Pig')\n",
    "    plt.savefig(output_path)\n",
    "    plt.close()\n",
    "\n",
    "def density_plot_no0(infile, outfile, plot_title):\n",
    "    \"\"\" create heatmap for hashes, found in pig and/or human metags, \n",
    "    hashes that are found only once are ommitted\"\"\"\n",
    "    df = pd.read_csv(infile, sep='\\s', engine='python', \n",
    "                 names=[\"hash\", \"human\", \"pig\"])\n",
    "    df = df[~(((df['human'] == 1) & (df['pig'] == 0)) | ((df['human'] == 0) & (df['pig'] == 1)))]\n",
    "    plt.figure(figsize=(10, 6))\n",
    "    sns.kdeplot(x=df['human'], y=df['pig'], fill=True, cmap=\"viridis\", cbar=True)\n",
    "    plt.title(plot_title)\n",
    "    plt.xlabel('Human')\n",
    "    plt.ylabel('Pig')\n",
    "    plt.savefig(output_path)\n",
    "    plt.close()"
   ]
  }
 ],
 "metadata": {
  "language_info": {
   "name": "python"
  }
 },
 "nbformat": 4,
 "nbformat_minor": 2
}
